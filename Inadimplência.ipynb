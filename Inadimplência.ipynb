{
  "nbformat": 4,
  "nbformat_minor": 0,
  "metadata": {
    "colab": {
      "name": "Inadimplência.ipynb",
      "provenance": []
    },
    "kernelspec": {
      "name": "python3",
      "display_name": "Python 3"
    },
    "language_info": {
      "name": "python"
    }
  },
  "cells": [
    {
      "cell_type": "code",
      "metadata": {
        "id": "p3ZS-dMpGnd0"
      },
      "source": [
        "import pandas as pd\n",
        "import requests\n",
        "import io\n",
        "import numpy as np\n",
        "    \n",
        "# Downloading the csv file from your GitHub account\n",
        "\n",
        "url_train = \"https://raw.githubusercontent.com/dataminerdbm/test_data_scientist/main/treino.csv\" # Make sure the url is the raw version of the file on GitHub\n",
        "url_test = \"https://raw.githubusercontent.com/dataminerdbm/test_data_scientist/main/teste.csv\"\n",
        "download_train = requests.get(url_train).content\n",
        "download_test = requests.get(url_test).content\n",
        "\n",
        "# Reading the downloaded content and turning it into a pandas dataframe\n",
        "\n",
        "df_train = pd.read_csv(io.StringIO(download_train.decode('utf-8')))\n",
        "df_test = pd.read_csv(io.StringIO(download_test.decode('utf-8')))\n",
        "\n",
        "# Printing out the first 5 rows of the dataframe\n",
        "\n",
        "#print(df_train.info())\n",
        "#print(df_train.info())"
      ],
      "execution_count": 151,
      "outputs": []
    },
    {
      "cell_type": "code",
      "metadata": {
        "id": "drc6nFW2H8hG"
      },
      "source": [
        "# Excluding the lines With NA from Salary, Because it can bias the model with salary = 0\n",
        "df_train = df_train[~df_train['salario_mensal'].isna()]\n",
        "\n",
        "# Modify type of numero_de_dependentes to int\n",
        "df_train['numero_de_dependentes'] = df_train['numero_de_dependentes'].astype(int)\n",
        "# Cleanig the data from duplicates\n",
        "df_train.drop_duplicates(keep='first', inplace=True) \n",
        "#df_train.describe()"
      ],
      "execution_count": 152,
      "outputs": []
    },
    {
      "cell_type": "code",
      "metadata": {
        "id": "uY1bSXgkL06B"
      },
      "source": [
        "# excluding outliers\n",
        "def exclude_outliers(DataFrame, col_name):\n",
        "    interval = 2.9*DataFrame[col_name].std()\n",
        "    mean = DataFrame[col_name].mean()\n",
        "    m_i = mean + interval \n",
        "    DataFrame = DataFrame[DataFrame[col_name] < m_i]\n",
        "    return DataFrame\n",
        "\n",
        "outlier_column = ['util_linhas_inseguras', 'idade', 'vezes_passou_de_30_59_dias', 'razao_debito', 'salario_mensal', 'numero_linhas_crdto_aberto',\n",
        "                   'numero_emprestimos_imobiliarios', 'numero_de_dependentes']\n",
        "\n",
        "for col in outlier_column:\n",
        "    df_train = exclude_outliers(df_train, col)\n",
        "\n",
        "df_train.describe()\n",
        "#df_train.info()"
      ],
      "execution_count": null,
      "outputs": []
    },
    {
      "cell_type": "code",
      "metadata": {
        "id": "cRw4xkw3XWbL"
      },
      "source": [
        "# this time I needed to do in less columns\n",
        "remain_column = ['razao_debito','util_linhas_inseguras','salario_mensal','numero_linhas_crdto_aberto']\n",
        "\n",
        "for col in remain_column:\n",
        "    df_train = exclude_outliers(df_train, col)\n",
        "\n",
        "df_train.describe()"
      ],
      "execution_count": null,
      "outputs": []
    },
    {
      "cell_type": "code",
      "metadata": {
        "id": "bbFQSMEH8jb5"
      },
      "source": [
        "# this time I needed to do in less columns\n",
        "df_train = exclude_outliers(df_train, 'razao_debito')\n",
        "\n",
        "df_train.describe()"
      ],
      "execution_count": null,
      "outputs": []
    },
    {
      "cell_type": "code",
      "metadata": {
        "id": "P1OlDKJsaWij"
      },
      "source": [
        "for col in list(df_train.columns):\n",
        "    df_train.hist(col, bins = 20)\n",
        "df_train.describe()"
      ],
      "execution_count": null,
      "outputs": []
    },
    {
      "cell_type": "code",
      "metadata": {
        "id": "YkQPs80WeccF"
      },
      "source": [
        "df_train[df_train < 1000].hist('salario_mensal', bins = 40)"
      ],
      "execution_count": null,
      "outputs": []
    },
    {
      "cell_type": "code",
      "metadata": {
        "id": "tpi0vg79bmIy"
      },
      "source": [
        "df_train = df_train[df_train['salario_mensal'] > 200]\n",
        "df_train.describe()"
      ],
      "execution_count": null,
      "outputs": []
    },
    {
      "cell_type": "code",
      "metadata": {
        "id": "Y_RD7IFzgzKV"
      },
      "source": [
        "for i in list(df_train.columns):\n",
        "    print(df_train[i].name)\n",
        "    print(df_train[i].unique())"
      ],
      "execution_count": null,
      "outputs": []
    },
    {
      "cell_type": "code",
      "metadata": {
        "id": "2fwtdte5Bake"
      },
      "source": [
        "df_train.describe()"
      ],
      "execution_count": null,
      "outputs": []
    },
    {
      "cell_type": "code",
      "metadata": {
        "id": "1KJNVaA4CbsQ"
      },
      "source": [
        "df_train = df_train.fillna(0)\n",
        "df_train"
      ],
      "execution_count": null,
      "outputs": []
    },
    {
      "cell_type": "markdown",
      "metadata": {
        "id": "sZbN8VSXfs0U"
      },
      "source": [
        "The data is clean, so we can move to the model"
      ]
    },
    {
      "cell_type": "code",
      "metadata": {
        "id": "ug1O6IN0Ko1z"
      },
      "source": [
        "import pandas as pd\n",
        "import numpy as np\n",
        "import matplotlib.pyplot as plt\n",
        "import seaborn as sns\n",
        "%matplotlib inline\n",
        "\n",
        "import statsmodels.api as sm\n",
        "import statsmodels.formula.api as smf\n",
        "from sklearn.linear_model import LogisticRegression\n",
        "from sklearn.metrics import roc_auc_score, roc_curve, classification_report,\\\n",
        "                            accuracy_score, confusion_matrix, auc"
      ],
      "execution_count": null,
      "outputs": []
    },
    {
      "cell_type": "code",
      "metadata": {
        "id": "Arm0dAymKtpa"
      },
      "source": [
        "modelo = smf.glm(formula='inadimplente ~ util_linhas_inseguras + idade + vezes_passou_de_30_59_dias + razao_debito + salario_mensal + numero_linhas_crdto_aberto + numero_vezes_passou_90_dias + numero_emprestimos_imobiliarios + numero_de_vezes_que_passou_60_89_dias + numero_de_dependentes', data=df_train,\n",
        "                family = sm.families.Binomial()).fit()\n",
        "print(modelo.summary())"
      ],
      "execution_count": null,
      "outputs": []
    },
    {
      "cell_type": "code",
      "metadata": {
        "colab": {
          "base_uri": "https://localhost:8080/"
        },
        "id": "5BDY0oOjL7Kj",
        "outputId": "caab9b64-66dc-4e4d-b01c-ec8f7a8df37a"
      },
      "source": [
        "# remove the razao_debito because the test showed this variable wasn't relevant\n",
        "modelo = smf.glm(formula='inadimplente ~ util_linhas_inseguras + idade + vezes_passou_de_30_59_dias + salario_mensal + numero_linhas_crdto_aberto + numero_vezes_passou_90_dias + numero_emprestimos_imobiliarios + numero_de_vezes_que_passou_60_89_dias + numero_de_dependentes', data=df_train,\n",
        "                family = sm.families.Binomial()).fit()\n",
        "print(modelo.summary())"
      ],
      "execution_count": 159,
      "outputs": [
        {
          "output_type": "stream",
          "text": [
            "                 Generalized Linear Model Regression Results                  \n",
            "==============================================================================\n",
            "Dep. Variable:           inadimplente   No. Observations:                81214\n",
            "Model:                            GLM   Df Residuals:                    81204\n",
            "Model Family:                Binomial   Df Model:                            9\n",
            "Link Function:                  logit   Scale:                          1.0000\n",
            "Method:                          IRLS   Log-Likelihood:                -15664.\n",
            "Date:                Tue, 27 Apr 2021   Deviance:                       31327.\n",
            "Time:                        11:56:11   Pearson chi2:                 1.42e+05\n",
            "No. Iterations:                     7                                         \n",
            "Covariance Type:            nonrobust                                         \n",
            "=========================================================================================================\n",
            "                                            coef    std err          z      P>|z|      [0.025      0.975]\n",
            "---------------------------------------------------------------------------------------------------------\n",
            "Intercept                                -3.2000      0.075    -42.823      0.000      -3.346      -3.053\n",
            "util_linhas_inseguras                     1.7285      0.044     39.552      0.000       1.643       1.814\n",
            "idade                                    -0.0143      0.001    -11.308      0.000      -0.017      -0.012\n",
            "vezes_passou_de_30_59_dias                0.4476      0.015     29.695      0.000       0.418       0.477\n",
            "salario_mensal                        -7.078e-05    5.7e-06    -12.419      0.000    -8.2e-05   -5.96e-05\n",
            "numero_linhas_crdto_aberto                0.0329      0.004      7.988      0.000       0.025       0.041\n",
            "numero_vezes_passou_90_dias               0.6450      0.022     28.975      0.000       0.601       0.689\n",
            "numero_emprestimos_imobiliarios           0.0714      0.020      3.642      0.000       0.033       0.110\n",
            "numero_de_vezes_que_passou_60_89_dias     0.6191      0.031     19.943      0.000       0.558       0.680\n",
            "numero_de_dependentes                     0.0637      0.014      4.459      0.000       0.036       0.092\n",
            "=========================================================================================================\n"
          ],
          "name": "stdout"
        }
      ]
    },
    {
      "cell_type": "code",
      "metadata": {
        "colab": {
          "base_uri": "https://localhost:8080/"
        },
        "id": "c9TmaSuHNCZz",
        "outputId": "35f4b8fd-4200-4ade-80dd-37e2fee8aacc"
      },
      "source": [
        "print(np.exp(modelo.params[1:]))"
      ],
      "execution_count": 160,
      "outputs": [
        {
          "output_type": "stream",
          "text": [
            "util_linhas_inseguras                    5.632036\n",
            "idade                                    0.985799\n",
            "vezes_passou_de_30_59_dias               1.564476\n",
            "salario_mensal                           0.999929\n",
            "numero_linhas_crdto_aberto               1.033461\n",
            "numero_vezes_passou_90_dias              1.906019\n",
            "numero_emprestimos_imobiliarios          1.073974\n",
            "numero_de_vezes_que_passou_60_89_dias    1.857242\n",
            "numero_de_dependentes                    1.065726\n",
            "dtype: float64\n"
          ],
          "name": "stdout"
        }
      ]
    },
    {
      "cell_type": "code",
      "metadata": {
        "colab": {
          "base_uri": "https://localhost:8080/"
        },
        "id": "uZvFLud4NGMq",
        "outputId": "d03e4f9f-f009-4a2f-f004-d608e798559d"
      },
      "source": [
        "(np.exp(modelo.params[1:]) - 1) * 100"
      ],
      "execution_count": 161,
      "outputs": [
        {
          "output_type": "execute_result",
          "data": {
            "text/plain": [
              "util_linhas_inseguras                    463.203596\n",
              "idade                                     -1.420054\n",
              "vezes_passou_de_30_59_dias                56.447572\n",
              "salario_mensal                            -0.007078\n",
              "numero_linhas_crdto_aberto                 3.346111\n",
              "numero_vezes_passou_90_dias               90.601895\n",
              "numero_emprestimos_imobiliarios            7.397422\n",
              "numero_de_vezes_que_passou_60_89_dias     85.724221\n",
              "numero_de_dependentes                      6.572594\n",
              "dtype: float64"
            ]
          },
          "metadata": {
            "tags": []
          },
          "execution_count": 161
        }
      ]
    },
    {
      "cell_type": "code",
      "metadata": {
        "id": "EeW2NCAoNKRi"
      },
      "source": [
        "# Agora vamos fazer com sklearn para aproveitar as métricas\n",
        "model = LogisticRegression(penalty='none', solver='newton-cg')\n",
        "baseline_df = df_train[['inadimplente', 'util_linhas_inseguras', 'idade', 'vezes_passou_de_30_59_dias', 'salario_mensal', 'numero_linhas_crdto_aberto',\n",
        "                        'numero_vezes_passou_90_dias', 'numero_emprestimos_imobiliarios', 'numero_de_vezes_que_passou_60_89_dias', \n",
        "                        'numero_de_dependentes']].dropna()\n",
        "y = baseline_df.inadimplente\n",
        "X = pd.get_dummies(baseline_df[['util_linhas_inseguras', 'idade', 'vezes_passou_de_30_59_dias', 'salario_mensal', 'numero_linhas_crdto_aberto',\n",
        "                        'numero_vezes_passou_90_dias', 'numero_emprestimos_imobiliarios', 'numero_de_vezes_que_passou_60_89_dias', \n",
        "                        'numero_de_dependentes']], drop_first=True)\n",
        "print(X)"
      ],
      "execution_count": null,
      "outputs": []
    },
    {
      "cell_type": "code",
      "metadata": {
        "id": "cokigLyXOnVC"
      },
      "source": [
        "model.fit(X, y)"
      ],
      "execution_count": null,
      "outputs": []
    },
    {
      "cell_type": "code",
      "metadata": {
        "id": "8pj23v_3Ouvg"
      },
      "source": [
        "print(model.coef_) "
      ],
      "execution_count": null,
      "outputs": []
    },
    {
      "cell_type": "code",
      "metadata": {
        "id": "TXkKjyX2Oy8z"
      },
      "source": [
        "# Predizendo as probabilidades\n",
        "yhat = model.predict_proba(X)"
      ],
      "execution_count": 165,
      "outputs": []
    },
    {
      "cell_type": "code",
      "metadata": {
        "id": "7RVN3CkwO2CI"
      },
      "source": [
        "yhat = yhat[:, 1] # manter somente para a classe positiva"
      ],
      "execution_count": 166,
      "outputs": []
    },
    {
      "cell_type": "code",
      "metadata": {
        "id": "sN2WSTNQQptb"
      },
      "source": [
        "confusion_matrix(y, model.predict(X)) # usando a função do sklearn"
      ],
      "execution_count": null,
      "outputs": []
    },
    {
      "cell_type": "code",
      "metadata": {
        "id": "A1QQGXntRMv4"
      },
      "source": [
        "acuracia = accuracy_score(y, model.predict(X))\n",
        "print('O modelo obteve %0.4f de acurácia.' % acuracia)"
      ],
      "execution_count": null,
      "outputs": []
    },
    {
      "cell_type": "code",
      "metadata": {
        "id": "q_Pb_-sARVKU"
      },
      "source": [
        "print(classification_report(y, model.predict(X)))"
      ],
      "execution_count": null,
      "outputs": []
    },
    {
      "cell_type": "code",
      "metadata": {
        "id": "dhlPAO_3Rr4_"
      },
      "source": [
        "print('AUC: %0.2f' % roc_auc_score(y, yhat))"
      ],
      "execution_count": null,
      "outputs": []
    },
    {
      "cell_type": "code",
      "metadata": {
        "id": "0gSBRQlNRxJo"
      },
      "source": [
        "def plot_roc_curve(y_true, y_score, figsize=(10,6)):\n",
        "    fpr, tpr, _ = roc_curve(y_true, y_score)\n",
        "    plt.figure(figsize=figsize)\n",
        "    auc_value = roc_auc_score(y_true, y_score)\n",
        "    plt.plot(fpr, tpr, color='orange', label='ROC curve (area = %0.2f)' % auc_value)\n",
        "    plt.plot([0, 1], [0, 1], color='darkblue', linestyle='--')\n",
        "    plt.xlabel('False Positive Rate')\n",
        "    plt.ylabel('True Positive Rate')\n",
        "    plt.title('Receiver Operating Characteristic (ROC) Curve')\n",
        "    plt.legend()\n",
        "    plt.show()"
      ],
      "execution_count": 172,
      "outputs": []
    },
    {
      "cell_type": "code",
      "metadata": {
        "id": "TEzDv7GSR4Y4"
      },
      "source": [
        "plot_roc_curve(y, yhat)"
      ],
      "execution_count": null,
      "outputs": []
    },
    {
      "cell_type": "code",
      "metadata": {
        "id": "mA7c7WopSXmI"
      },
      "source": [
        "df_test = df_test[~df_test['salario_mensal'].isna()]\n",
        "df_test = df_test[df_test.columns[~df_test.columns.isin(['razao_debito'])]]\n",
        "df_test.info()"
      ],
      "execution_count": null,
      "outputs": []
    },
    {
      "cell_type": "code",
      "metadata": {
        "id": "1vKX7oGSUYav"
      },
      "source": [
        "# Modify type of numero_de_dependentes to int\n",
        "df_train['util_linhas_inseguras'] = df_train['util_linhas_inseguras'].astype(int)\n",
        "# Cleanig the data from duplicates\n",
        "df_train.drop_duplicates(keep='first', inplace=True) \n",
        "#df_train.describe()"
      ],
      "execution_count": null,
      "outputs": []
    },
    {
      "cell_type": "code",
      "metadata": {
        "id": "qDWW175cSFK4"
      },
      "source": [
        "\n",
        "prob = model.predict_proba(df_test)\n",
        "print(prob)"
      ],
      "execution_count": null,
      "outputs": []
    }
  ]
}